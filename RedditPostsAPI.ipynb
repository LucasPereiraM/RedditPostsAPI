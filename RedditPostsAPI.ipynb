{
  "nbformat": 4,
  "nbformat_minor": 0,
  "metadata": {
    "colab": {
      "provenance": [],
      "authorship_tag": "ABX9TyMzO+JLOXWr7oeAq+RqC2e4",
      "include_colab_link": true
    },
    "kernelspec": {
      "name": "python3",
      "display_name": "Python 3"
    },
    "language_info": {
      "name": "python"
    }
  },
  "cells": [
    {
      "cell_type": "markdown",
      "metadata": {
        "id": "view-in-github",
        "colab_type": "text"
      },
      "source": [
        "<a href=\"https://colab.research.google.com/github/LucasPereiraM/RedditPostsAPI/blob/main/RedditPostsAPI.ipynb\" target=\"_parent\"><img src=\"https://colab.research.google.com/assets/colab-badge.svg\" alt=\"Open In Colab\"/></a>"
      ]
    },
    {
      "cell_type": "markdown",
      "source": [
        "#Questão 02\n",
        "#Client_id = \"Insira o client id\"\n",
        "#Secret = \"Insira o client secret\""
      ],
      "metadata": {
        "id": "TjlS0j_7nPsN"
      }
    },
    {
      "cell_type": "code",
      "source": [
        "#Questão 03\n",
        "!pip install praw\n",
        "\n",
        "import praw\n",
        "import csv\n",
        "\n",
        "# Cria uma instância Reddit com suas credenciais de autenticação\n",
        "reddit = praw.Reddit(client_id='Insira o client id',\n",
        "client_secret='Insira o client id', user_agent='myapp')\n",
        "\n",
        "# Escolha um subreddit para interagir\n",
        "subreddit = reddit.subreddit(\"Uberlandia\")\n",
        "\n",
        "# Obtém os top 30 posts no subreddit\n",
        "top_posts = subreddit.top(limit=30)\n",
        "\n",
        "# Cria um arquivo CSV file\n",
        "with open(\"reddit_data.csv\", mode=\"w\", newline='', encoding='utf-8') as file:\n",
        "   writer = csv.writer(file)\n",
        "   writer.writerow([\"Titulo\", \"comentario\"])\n",
        "\n",
        "   # para cada post\n",
        "   for post in top_posts:\n",
        "       # obtem titulo\n",
        "       post_title = post.title\n",
        "\n",
        "       # itera sobre os 15 primeiros comentarios do post\n",
        "       for comment in post.comments[:15]:\n",
        "           # obtem conteudo do comentario\n",
        "           comment_body = comment.body\n",
        "\n",
        "           # escreve titulo e comentario no arquivo CSV\n",
        "           print(post_title, comment_body)"
      ],
      "metadata": {
        "colab": {
          "base_uri": "https://localhost:8080/"
        },
        "id": "a0RIxlbAnXRj",
        "outputId": "09036393-7dc2-4589-cf71-ebd912bb4381"
      },
      "execution_count": null,
      "outputs": [
        {
          "output_type": "stream",
          "name": "stdout",
          "text": [
            "Requirement already satisfied: praw in /usr/local/lib/python3.11/dist-packages (7.8.1)\n",
            "Requirement already satisfied: prawcore<3,>=2.4 in /usr/local/lib/python3.11/dist-packages (from praw) (2.4.0)\n",
            "Requirement already satisfied: update_checker>=0.18 in /usr/local/lib/python3.11/dist-packages (from praw) (0.18.0)\n",
            "Requirement already satisfied: websocket-client>=0.54.0 in /usr/local/lib/python3.11/dist-packages (from praw) (1.8.0)\n",
            "Requirement already satisfied: requests<3.0,>=2.6.0 in /usr/local/lib/python3.11/dist-packages (from prawcore<3,>=2.4->praw) (2.32.3)\n",
            "Requirement already satisfied: charset-normalizer<4,>=2 in /usr/local/lib/python3.11/dist-packages (from requests<3.0,>=2.6.0->prawcore<3,>=2.4->praw) (3.4.1)\n",
            "Requirement already satisfied: idna<4,>=2.5 in /usr/local/lib/python3.11/dist-packages (from requests<3.0,>=2.6.0->prawcore<3,>=2.4->praw) (3.10)\n",
            "Requirement already satisfied: urllib3<3,>=1.21.1 in /usr/local/lib/python3.11/dist-packages (from requests<3.0,>=2.6.0->prawcore<3,>=2.4->praw) (2.3.0)\n",
            "Requirement already satisfied: certifi>=2017.4.17 in /usr/local/lib/python3.11/dist-packages (from requests<3.0,>=2.6.0->prawcore<3,>=2.4->praw) (2025.1.31)\n"
          ]
        },
        {
          "output_type": "stream",
          "name": "stderr",
          "text": [
            "WARNING:praw:It appears that you are using PRAW in an asynchronous environment.\n",
            "It is strongly recommended to use Async PRAW: https://asyncpraw.readthedocs.io.\n",
            "See https://praw.readthedocs.io/en/latest/getting_started/multiple_instances.html#discord-bots-and-asynchronous-environments for more info.\n",
            "\n",
            "WARNING:praw:It appears that you are using PRAW in an asynchronous environment.\n",
            "It is strongly recommended to use Async PRAW: https://asyncpraw.readthedocs.io.\n",
            "See https://praw.readthedocs.io/en/latest/getting_started/multiple_instances.html#discord-bots-and-asynchronous-environments for more info.\n",
            "\n",
            "WARNING:praw:It appears that you are using PRAW in an asynchronous environment.\n",
            "It is strongly recommended to use Async PRAW: https://asyncpraw.readthedocs.io.\n",
            "See https://praw.readthedocs.io/en/latest/getting_started/multiple_instances.html#discord-bots-and-asynchronous-environments for more info.\n",
            "\n"
          ]
        },
        {
          "output_type": "stream",
          "name": "stdout",
          "text": [
            "Bem assim Brutal\n"
          ]
        },
        {
          "output_type": "stream",
          "name": "stderr",
          "text": [
            "WARNING:praw:It appears that you are using PRAW in an asynchronous environment.\n",
            "It is strongly recommended to use Async PRAW: https://asyncpraw.readthedocs.io.\n",
            "See https://praw.readthedocs.io/en/latest/getting_started/multiple_instances.html#discord-bots-and-asynchronous-environments for more info.\n",
            "\n"
          ]
        },
        {
          "output_type": "stream",
          "name": "stdout",
          "text": [
            "Uberlândia é realmente tão mal falada no resto de Minas? Sim, é. \n",
            "\n",
            "E se pegar questão cultural e geográfica, somos mais goianos que mineiros. E não temos quase nada de paulista, igual tem gente que acha.\n",
            "Uberlândia é realmente tão mal falada no resto de Minas? Belo horizontino é bem mais receptivo, descolado/alegre etc . \n",
            "\n",
            "Dito isso , Uberlândia é 10x mais limpa, melhor planejada, organizada e menos caótica que BH.\n",
            "\n",
            "Uberlândia >>>> BH\n",
            "Uberlândia é realmente tão mal falada no resto de Minas? Uberlândia é o famoso pobre de direita, só olhar pra quem continuam votando pra prefeito\n",
            "Uberlândia é realmente tão mal falada no resto de Minas? Uberlândia é a Curitiba de Minas?\n",
            "Uberlândia é realmente tão mal falada no resto de Minas? Sim, mas injustamente. As pessoas vêm de cidades menores que Uberlândia normalmente e, por via de regra, quanto menor a cidade, mais acolhedora ela é. É claro que sua cidadezinha de 50 mil habitantes é mais acolhedora que Uberlândia.\n",
            "\n",
            "Edit: galera falando que outras cidades maiores são mais receptivas, ok. Isso não quer dizer que Uberlândia não seja receptiva. Eu moro em Uberlândia minha vida inteira, e a receptividade das pessoas chega a me incomodar em vários momentos. É só chegar em qualquer ambiente novo de trabalho/escola que as pessoas já querem saber tudo da sua vida, marcar eventos sociais etc. Sinceramente, eu queria era que o pessoal fosse MENOS receptivo.\n",
            "Uberlândia é realmente tão mal falada no resto de Minas? tem 3 cidades com B no Triango Minero: Berlandia, Beraba e a Boooooossta do Araguari (isso me foi dito por um araguarino)\n",
            "Uberlândia é realmente tão mal falada no resto de Minas? Estudei no UFU, o povo de Uberlândia era um cu. A galera que veio de fora, assim como eu, era o povo gente boa.\n",
            "Uberlândia é realmente tão mal falada no resto de Minas? Minha tia disse que o povo mais metido que ela já encontrou em aeroporto foi o povo de uberlândia kkkk eu concordo com ela, o povo de uberlandia é metido e sem receptividade sim, amo minha cidade, mas isso é verdade.\n",
            "Uberlândia é realmente tão mal falada no resto de Minas? Ja morei em três regiões de MG. Continuo circulando bastante por todo o estado. Apesar dessa fama, eu nao vejo ninguem falando isso pelo estado. Na verdade, o que parece é que o resto de Minas ignora Uberlandia. Quando vejo gente que conhece, costumam comentar que é grande, organizada e que se nota que circula muito dinheiro (o que nao quer dizer que esta distribuido pelas pessoas)\n",
            "Uberlândia é realmente tão mal falada no resto de Minas? Morei aí nos anos 90. Eu achava mesmo o povo metido. Dito isso nunca me incomodou e mantenho amizade dessa época até hoje\n",
            "Uberlândia é realmente tão mal falada no resto de Minas? è tenso msmo, é tipo um Góias da vida só que com aspirações financeiras de paulista faria lima, povo mesquinho do sertagospel ou sertanejo de corno.\n",
            "Uberlândia é realmente tão mal falada no resto de Minas? Como Uberlandense nativo, te afirmo que ja foi bom.\n",
            "Hoje em dia 40% são Uberlandenses.\n",
            "Mas a cultura de duble de rico e inveja impera nessa cidade, depende o que voce quer fazer lá.\n",
            "Uberlândia é realmente tão mal falada no resto de Minas? O triângulo mineiro já pertenceu ao Goiás e São Paulo. Nasci no triângulo, morei no centro sul de minas muito anos e depois voltei pro triângulo.\n",
            "\n",
            "Tem muito menos vibe de minas gerais mesmo. É diferente, mas talvez por ser também cidade grande.\n",
            "Uberlândia é realmente tão mal falada no resto de Minas? Morei no inferno em 2012, se chama Itumbiara Goias.  Dizem que são influências do triângulo.   Espero que não sejam.\n",
            "Uberlândia é realmente tão mal falada no resto de Minas? Pq gente assim sempre culpa os imigrantes? Se um povo é uma merda, culpam os imigrantes?? Onde tem lógica nisso? Ahh vai tomar no cu\n"
          ]
        },
        {
          "output_type": "stream",
          "name": "stderr",
          "text": [
            "WARNING:praw:It appears that you are using PRAW in an asynchronous environment.\n",
            "It is strongly recommended to use Async PRAW: https://asyncpraw.readthedocs.io.\n",
            "See https://praw.readthedocs.io/en/latest/getting_started/multiple_instances.html#discord-bots-and-asynchronous-environments for more info.\n",
            "\n"
          ]
        },
        {
          "output_type": "stream",
          "name": "stdout",
          "text": [
            "Piquenique do r/uberlandia, 21/09 Esqueci de botar o username do nosso mod e fotógrafo, u/ArchibaldBartholomew\n",
            "Piquenique do r/uberlandia, 21/09 Muito legal, parabéns... Gostaria que aqui fosse assim tbm kkk\n",
            "Piquenique do r/uberlandia, 21/09 Foi muito divertido, no próximo já sou presença confirmada :)\n",
            "Piquenique do r/uberlandia, 21/09 Fofos! O Jeferson eh mt fotogênico haushsjsjs\n",
            "Piquenique do r/uberlandia, 21/09 Foi no parque do sabiá?\n",
            "Piquenique do r/uberlandia, 21/09 erre/portoalegre could never, a gnt ia sair na porrada\n",
            "Piquenique do r/uberlandia, 21/09 Não acreditoooo! Preciso ficar mais de olho nesse sub. Façam outro pra eu participar! Kkkkkk\n"
          ]
        },
        {
          "output_type": "stream",
          "name": "stderr",
          "text": [
            "WARNING:praw:It appears that you are using PRAW in an asynchronous environment.\n",
            "It is strongly recommended to use Async PRAW: https://asyncpraw.readthedocs.io.\n",
            "See https://praw.readthedocs.io/en/latest/getting_started/multiple_instances.html#discord-bots-and-asynchronous-environments for more info.\n",
            "\n",
            "WARNING:praw:It appears that you are using PRAW in an asynchronous environment.\n",
            "It is strongly recommended to use Async PRAW: https://asyncpraw.readthedocs.io.\n",
            "See https://praw.readthedocs.io/en/latest/getting_started/multiple_instances.html#discord-bots-and-asynchronous-environments for more info.\n",
            "\n"
          ]
        },
        {
          "output_type": "stream",
          "name": "stdout",
          "text": [
            "Vamos falar a verdade? Esses dois prédios ficaram HORRÍVEIS e destruiram a paisagem urbana de Uberlândia. Nem sei direito onde é Uberlândia mas o prédio da direita é da hora\n",
            "Vamos falar a verdade? Esses dois prédios ficaram HORRÍVEIS e destruiram a paisagem urbana de Uberlândia. O da esquerda, antes de ter aquela faixa de vidro no topo, tinha uma parte arredondada com um relógio. Tentaram modernizar e virou um caixote enorme e sem graça.\n",
            "Vamos falar a verdade? Esses dois prédios ficaram HORRÍVEIS e destruiram a paisagem urbana de Uberlândia. Por incrível que pareça, a cidade tem (em teoria) um plano diretor, que contempla várias questões importantes a cidade e sua população, assim como o paisagismo urbano. Mas essa atrocidade, assim como aquela torre descomunal próximo ao Praia Clube, são invisíveis às autoridades, que deveriam manter e zelar por isso.\n",
            "Vamos falar a verdade? Esses dois prédios ficaram HORRÍVEIS e destruiram a paisagem urbana de Uberlândia. Como se uberlandia fosse bonits\n",
            "Vamos falar a verdade? Esses dois prédios ficaram HORRÍVEIS e destruiram a paisagem urbana de Uberlândia. Edit: Pior que a fachada antiga do hotel era bonita. Cagaram demais em transformar um predio que tinha personalidade num caixote branco feio\n",
            "Vamos falar a verdade? Esses dois prédios ficaram HORRÍVEIS e destruiram a paisagem urbana de Uberlândia. \"Paisagem urbana de Uberlândia\" me pegou um pouco\n",
            "Vamos falar a verdade? Esses dois prédios ficaram HORRÍVEIS e destruiram a paisagem urbana de Uberlândia. Projetados com a engine do GTA3\n",
            "Vamos falar a verdade? Esses dois prédios ficaram HORRÍVEIS e destruiram a paisagem urbana de Uberlândia. esse da direita parece um armário com 3 gaveta\n",
            "Vamos falar a verdade? Esses dois prédios ficaram HORRÍVEIS e destruiram a paisagem urbana de Uberlândia. Fale o nome de 3 cidades mineiras que comecem com letra B: Beraba, Berlandia e Belo Horizonte\n",
            "Vamos falar a verdade? Esses dois prédios ficaram HORRÍVEIS e destruiram a paisagem urbana de Uberlândia. Por um momento eu pensei que fosse um print do Minecraft\n",
            "Vamos falar a verdade? Esses dois prédios ficaram HORRÍVEIS e destruiram a paisagem urbana de Uberlândia. Esse sub apareceu randomicamente pra mim. Sou da região central de Minas, nunca fui a Uberlandia.\n",
            "\n",
            "Dito isso parece aqueles gabinetes conceito de pc\n",
            "\n",
            "Como pc até vai mas como prédio fica feio pra porra realmente.\n",
            "\n",
            "Espero ter ajudado com a opinião imparcial\n",
            "Vamos falar a verdade? Esses dois prédios ficaram HORRÍVEIS e destruiram a paisagem urbana de Uberlândia. É daí que vem os ubers? Hahahaha\n",
            "Vamos falar a verdade? Esses dois prédios ficaram HORRÍVEIS e destruiram a paisagem urbana de Uberlândia. Vc já pensou em se mudar para 99landia ?\n",
            "Vamos falar a verdade? Esses dois prédios ficaram HORRÍVEIS e destruiram a paisagem urbana de Uberlândia. É...\n",
            "Vamos falar a verdade? Esses dois prédios ficaram HORRÍVEIS e destruiram a paisagem urbana de Uberlândia. Faz o seguinte: constrói o teu prédio bonito\n",
            "Fumaça cobriu a cidade Onde é essa foto? Lugar bonito\n",
            "Fumaça cobriu a cidade Sim, até pensei que iria chover. \n",
            "\n",
            "Tá tendo umas queimadas fodas por aí\n",
            "Fumaça cobriu a cidade Aqui em Ituiutaba tá a mesma coisa, muito triste.\n",
            "Fumaça cobriu a cidade  alguém sabe oq aconteceu?\n",
            "Fumaça cobriu a cidade Não aguento mais esse tempo seco e fumaçado.\n",
            "Fumaça cobriu a cidade Aqui em valinhos tambem\n",
            "Fumaça cobriu a cidade Serração da manhã e vem falar que é fumaça, pqp!\n"
          ]
        },
        {
          "output_type": "stream",
          "name": "stderr",
          "text": [
            "WARNING:praw:It appears that you are using PRAW in an asynchronous environment.\n",
            "It is strongly recommended to use Async PRAW: https://asyncpraw.readthedocs.io.\n",
            "See https://praw.readthedocs.io/en/latest/getting_started/multiple_instances.html#discord-bots-and-asynchronous-environments for more info.\n",
            "\n"
          ]
        },
        {
          "output_type": "stream",
          "name": "stdout",
          "text": [
            "Chuva de Uberlândia: a Tava precisando!\n",
            "Chuva de Uberlândia: a Umas telhas de casa voaram, mas foi por um bem maior...\n",
            "Chuva de Uberlândia: a Bom demais, curti a chuva no posto em frente ao timbre\n"
          ]
        },
        {
          "output_type": "stream",
          "name": "stderr",
          "text": [
            "WARNING:praw:It appears that you are using PRAW in an asynchronous environment.\n",
            "It is strongly recommended to use Async PRAW: https://asyncpraw.readthedocs.io.\n",
            "See https://praw.readthedocs.io/en/latest/getting_started/multiple_instances.html#discord-bots-and-asynchronous-environments for more info.\n",
            "\n"
          ]
        },
        {
          "output_type": "stream",
          "name": "stdout",
          "text": [
            "Uberlândia é problematico pra quem é de fora O melhor de Uberlândia é quem vem de fora..\n",
            "Uberlândia é problematico pra quem é de fora Morei 2 anos em uberlândia, e... devo concordar com você\n",
            "\n",
            "Separar uberlandeses de uberlandinos é só o começo  \n",
            "A cidade tem um custo de vida que não condiz com a qualidade que ela oferece (usando floripa como exemplo, que tem o aluguel mais alto porém te entrega diversas atividades culturais gratuitas, tem restaurantes muito melhores, mais competição (que deixa as coisas mais baratas e com mais qualidade), simpatia etc etc\n",
            "\n",
            "Sem falar que a cidade no fds parece interior, os 800 mil habitantes se enfiam em casa (ou vão pra caldas novas, talvez?) só sei que é bem triste pra quem gosta de gente e não tem família lá\n",
            "\n",
            "Salários são baíxissimos, práticas de pejotização absolutamente normalizadas\n",
            "\n",
            "Porém o céu é lindo (mesmo, é um espetáculo diário) e as ruas são amplas e bem cuidadas, e também tem muitas praças bem cuidadas e arborizadas\n",
            "Uberlândia é problematico pra quem é de fora Eu passei por isso também, vindo de Goiás para Uberlândia. Cara, ensino fundamental e médio é um lixo e adolescente é o tipinho mais medíocre que há. \n",
            "\n",
            "Mas melhora um tanto quando vc vai para o ensino superior. Na minha turma 50% eram de outras cidades e estados, e 3 pessoas eram de países africanos. Fica tranquilo. A xenofobia do uberlandense acaba quando ele vai pra São Paulo e alguém zoa o R puxado ou os inúmeros erros gramaticais.\n",
            "\n",
            "Mas dá uma chance para a cidade. Existem pessoas muito boas aqui também, e é uma cidade incrível, bastante desenvolvida comparada a outros lugares.\n",
            "Uberlândia é problematico pra quem é de fora Isso é do ser humano mesmo... Está ficando cada dia pior\n",
            "Uberlândia é problematico pra quem é de fora Quase ninguém na UFU é nascido em Uberlândia. Ao menos na minha época (2009–2013) era assim.\n",
            "Uberlândia é problematico pra quem é de fora Eu acho que é uma coisa do ser humano mesmo, porque eu já sofri xenofobia em Brasília por ser daqui. Eu achava que um dos poucos consensos nacionais era que todo mundo gostava de mineiro, porém... Até hoje eu tenho ressalvas em falar a palavra \"besouro\" pelo tanto que me humilharam. \n",
            "\n",
            "Sinto muito que tenha passado por isso. Estou torcendo pra você encontrar as pessoas certas, porque tem muita gente legal por aqui. Especialmente na faculdade, quando o mundo se expande e deixa de ser essa coisa tosca de grupinho homogêneo do ensino médio.\n",
            "Uberlândia é problematico pra quem é de fora Sinto a mesma coisa aqui, só vão ser legais se sentirem que vc de alguma forma oferece algo tem utilidade, se tiver algum proveito vão te tratar bem. Morei em muitas cidades devido ao emprego do meu pai, mas aqui foi o único lugar que senti isso nas pessoas. Interesse\n",
            "Uberlândia é problematico pra quem é de fora Nesse caso eu tive um pouco de sorte porque sou de fora e lidei com muita gente que veio de fora igualmente, eles até brincavam que foram trabalhar na cidade porque uberlandense é preguiçoso. As pessoas que lidei de Uberlândia na faculdade me deixaram estressada e até retraída, a experiência foi boa só com professores e coordenação. Em 4 anos de faculdade fiz só 2 amizades, uma delas sendo a minha própria coordenadora.\n",
            "Uberlândia é problematico pra quem é de fora Moro aqui a uns 3 anos, mudei pra estudar na UFU e admito que nunca passei por muito disso. Na UFU uma boa parte do pessoal é de fora também, nunca senti mt essa vibe. Talvez seja coisa de ensino médio mesmo\n",
            "Uberlândia é problematico pra quem é de fora Uberlândia dá uma galera metida,  meio caipira e mal educada. A estrutura da cidade é ótima, mas as pessoas não sabem usar. O trânsito é péssimo. Ninguém respeita sinal. Fiquei abismado com o número de acidente de trânsito. Na cidade é cheia de pais de pet que levam dogs pra cagar nas praças e não recolhem as merdas, eles não carregam saquinhos. Aqui não parece Minas Gerais, é uma mistura estranha de Goiás, SP e MG, mas não deu um filho bonito. As pessoas da cidade parecem tristes, eu chego no supermercado, nos restaurantes, na farmácia e as pessoas estão com a fisionomia abatida e triste, não sei se isso acontece devido os salários ruins em uma cidade de muitas aparências. Algo que incomoda tbm são os restaurantes ruins, já fui em lugares renomados aqui e deixa desejar. Admiro o espírito empreendedor da cidade. A localização da cidade é estratégica. Vale a pena passar uma temporada a trabalho. \n",
            "Uberlândia é problematico pra quem é de fora Moro em Uberlândia e nunca  vi isso. E olha que conheço gente de todos os cantos do Brasil e até de fora do país que moram aqui.\n",
            "Uberlândia é problematico pra quem é de fora \n",
            "Moro aqui nessa porra, vcs são um bando de Chico Bento querendo tirar onda com outros estados?\n",
            "Tomar no cu porra .\n",
            "Uberlândia é problematico pra quem é de fora Morei em Uberlândia 5 anos exatamente quando fui fazer faculdade, mas meus pais mudaram juntos também (foram reiniciar a vida).\n",
            "\n",
            "A UFU vale a pena esse desgaste. Lá você vai conhecer muita gente de fora, dá pra ter uma turma heterogênea \n",
            "\n",
            "É muito diferente do ensino médio, tenho certeza.\n",
            "Uberlândia é problematico pra quem é de fora Sou de manaus. Alguem me dá dicas de cidades boas do estado onde eu não sofra xenofobia???? (no caso,que tenha menos chances)\n",
            "\n",
            "(pensando em morar em minas,mas fiquei assustado)\n",
            "Uberlândia é problematico pra quem é de fora Engraçado, cê já chega chamando Uberlândia de \"buraco\", mas é simplesmente a 2ª maior cidade de Minas e tem o IDH quase tão bom quanto o de Chapecó/SC e Paulínia/SP, cidades MUITO menores.\n",
            "\n",
            "Ao contrário do que você diz, o custo de vida não é alto. Tente viver lá em BH com o mesmo dinheiro que você tem em Uberlândia, pagando aluguel, e verá.\n"
          ]
        },
        {
          "output_type": "stream",
          "name": "stderr",
          "text": [
            "WARNING:praw:It appears that you are using PRAW in an asynchronous environment.\n",
            "It is strongly recommended to use Async PRAW: https://asyncpraw.readthedocs.io.\n",
            "See https://praw.readthedocs.io/en/latest/getting_started/multiple_instances.html#discord-bots-and-asynchronous-environments for more info.\n",
            "\n"
          ]
        },
        {
          "output_type": "stream",
          "name": "stdout",
          "text": [
            "Registros do rolê do final de semana passado (14 e 15) São os melhores\n",
            "Registros do rolê do final de semana passado (14 e 15) caralho, o adalto\n",
            "Registros do rolê do final de semana passado (14 e 15) Que rolezin mai bão! Ceis sao mt legais, vlw por geral que foi <3\n",
            "Registros do rolê do final de semana passado (14 e 15) Rolê foi bom demais ✨\n",
            "Registros do rolê do final de semana passado (14 e 15) oloco, um abraço pro lucas melero, diretamente do rio verdão\n",
            "Registros do rolê do final de semana passado (14 e 15) Ó o Jeff ali\n",
            "Registros do rolê do final de semana passado (14 e 15) Conheço fofocas brabissimas de pessoas dessa foto KKKKKKKKK\n",
            "Quase gorfei quando vi KKKKKKK\n"
          ]
        },
        {
          "output_type": "stream",
          "name": "stderr",
          "text": [
            "WARNING:praw:It appears that you are using PRAW in an asynchronous environment.\n",
            "It is strongly recommended to use Async PRAW: https://asyncpraw.readthedocs.io.\n",
            "See https://praw.readthedocs.io/en/latest/getting_started/multiple_instances.html#discord-bots-and-asynchronous-environments for more info.\n",
            "\n",
            "WARNING:praw:It appears that you are using PRAW in an asynchronous environment.\n",
            "It is strongly recommended to use Async PRAW: https://asyncpraw.readthedocs.io.\n",
            "See https://praw.readthedocs.io/en/latest/getting_started/multiple_instances.html#discord-bots-and-asynchronous-environments for more info.\n",
            "\n"
          ]
        },
        {
          "output_type": "stream",
          "name": "stdout",
          "text": [
            "🚨ADOÇÃO RESPONSÁVEL 🚨 Muito linda!!!\n",
            "🚨ADOÇÃO RESPONSÁVEL 🚨 Tadinha que linda aaaaa \n",
            "Eu já tenho 5 :( \n",
            "Bem que eu queria OUTRA tricolor 😳😳😳😳\n",
            "🚨ADOÇÃO RESPONSÁVEL 🚨 Fofa\n",
            "Linha viva Fotão!\n"
          ]
        },
        {
          "output_type": "stream",
          "name": "stderr",
          "text": [
            "WARNING:praw:It appears that you are using PRAW in an asynchronous environment.\n",
            "It is strongly recommended to use Async PRAW: https://asyncpraw.readthedocs.io.\n",
            "See https://praw.readthedocs.io/en/latest/getting_started/multiple_instances.html#discord-bots-and-asynchronous-environments for more info.\n",
            "\n"
          ]
        },
        {
          "output_type": "stream",
          "name": "stdout",
          "text": [
            "Desabafo [deleted]\n",
            "Desabafo É q chegou em um ponto q literalmente não tem oq fazer,pq qualquer coisa q for feita vai levar anos pra ter o mínimo de impacto,no enorme estrago q tem agora\n",
            "Desabafo Amigo, politica agora não muda NADA!\n",
            "Lembra quando a seca e queimadas foram com o governo bozo? Parecia que o mundo tava acabando em chamas. Hoje está bem pior, mas agora é o governo \"do amor\", mas tá tudo bem. Você não vai ouvir falar mesmo, pq agora é para ficar quietinho. A merda de politica + midia da nisso.\n",
            "Mas aqui em Uberlândia, existe uma cultura horrorosa de cortar árvores, e deixar menos sombras. Se o povo tivesse O MINIMO de bom senso, já estaria plantando árvore do cerrado e coqueiro para todo lado. Mas tenho certeza, a cada chuva, mais e mais árvores serão derrubadas. Mal de uberlandense, priorizar a visualização do trânsito, e praças cheias de concreto.\n",
            "Desabafo Não sei na sua cidade, mas na minha o únicos que levantam bandeira de políticos são familiares ou estão recebendo por isso. Kkkkkk\n",
            "Desabafo O agro esconde a repercussão. “Desoculte o poder do money”\n"
          ]
        },
        {
          "output_type": "stream",
          "name": "stderr",
          "text": [
            "WARNING:praw:It appears that you are using PRAW in an asynchronous environment.\n",
            "It is strongly recommended to use Async PRAW: https://asyncpraw.readthedocs.io.\n",
            "See https://praw.readthedocs.io/en/latest/getting_started/multiple_instances.html#discord-bots-and-asynchronous-environments for more info.\n",
            "\n",
            "WARNING:praw:It appears that you are using PRAW in an asynchronous environment.\n",
            "It is strongly recommended to use Async PRAW: https://asyncpraw.readthedocs.io.\n",
            "See https://praw.readthedocs.io/en/latest/getting_started/multiple_instances.html#discord-bots-and-asynchronous-environments for more info.\n",
            "\n"
          ]
        },
        {
          "output_type": "stream",
          "name": "stdout",
          "text": [
            "Beija-flor, quantas saudades você deixou.  Memória desbloqueada com sucesso! kkkk\n",
            "Beija-flor, quantas saudades você deixou.  O Beija-flor original era uns microônibus gratuitos. Eu lembro que passava um aqui na avenida Francisco Ribeiro, no Santa Mônica, a gente brincando de bola na rua, a gente pegava o beija flor a toa, só pra ir lá perto da ufu e voltar, curtindo o ar condicionado do busão.\n",
            "Beija-flor, quantas saudades você deixou.  sdds  \n",
            "Ipanema-Centro   \n",
            ":/\n",
            "Beija-flor, quantas saudades você deixou.  Pegava na Tubal pra ir pra UFU, no final dos anos 90… tinha um motorista carioca wue dirigia como os onibus no Rio. Era pura aventura.\n",
            "Beija-flor, quantas saudades você deixou.  SAUDADES ETERNAS\n",
            "Beija-flor, quantas saudades você deixou.  Eu sinto muita falta\n",
            "Procura-se galo no Tibery  Atualização:\n",
            "\n",
            "https://preview.redd.it/ujaqziafwvbe1.png?width=1080&format=pjpg&auto=webp&s=94d3dd22606996d54d7099326f8d0fc015e1f9de\n"
          ]
        },
        {
          "output_type": "stream",
          "name": "stderr",
          "text": [
            "WARNING:praw:It appears that you are using PRAW in an asynchronous environment.\n",
            "It is strongly recommended to use Async PRAW: https://asyncpraw.readthedocs.io.\n",
            "See https://praw.readthedocs.io/en/latest/getting_started/multiple_instances.html#discord-bots-and-asynchronous-environments for more info.\n",
            "\n"
          ]
        },
        {
          "output_type": "stream",
          "name": "stdout",
          "text": [
            "Vale a pena ir para a UFU? Custo de vida e etc A UFU tem diversos auxilios para estudantes de baixa renda como pra moradia e alimentação. Penso que ainda sim seria interessante um emprego de meio período pra complementar a renda.\n",
            "Alimentação você consegue almoçar e jantar no RU (Restaurante Universitário) de graça com o auxílio alimentação. Porém não funciona fins de semana.\n",
            "Acredito que o mais barato seja morar em república ou em pensionato, os aluguéis perto dos campi da UFU são salgados.\n",
            "No geral a cidade é bem segura mas também n pode ficar vacilando mt durante a noite dependendo da região.\n",
            "Na cidade agora o transporte público é gratuito pra estudantes, não é dos melhores mas funciona.\n",
            "Vale a pena ir para a UFU? Custo de vida e etc Vou ser sincero contigo, Uberlândia é uma cidade cara, por mais que existam auxílios estudantis, seria legal se você conseguisse trabalhar ou ter uma ajuda familiar pra se manter por aqui. Talvez procurar uma república ou algo do tipo pra não sair perdendo tanto dinheiro pro aluguel\n",
            "Vale a pena ir para a UFU? Custo de vida e etc Realmente a UFU tem vários auxílios. Moradia alimentação (se não me engano café da manhã, almoço, e janta). \n",
            "A UFU tem transporte inter campin. \n",
            "Se for estudar.medicina estará estudando no campus Umuarama.\n",
            "É uma universidade boa na minha opinião. \n",
            "Minha recomendação, entre em contato com a universidade e converse com funcionários e verifique os auxílios que você consegue e oq precisa e com isso vai amadurecendo a ideia.\n",
            "\n",
            "Boa sorte OP\n",
            "Vale a pena ir para a UFU? Custo de vida e etc Ufu é massa, med daqui com o HCU é referência.\n",
            "\n",
            "Mas a cidade é mto cara, falam q a galera tenta ser duble de rico e é isso mesmo, custo de vida bem alto. Pra quem ja tem estrutura aqui, é perfeito, mas gente de fora que vai necessitar de auxílios da universidade, não vai viver legal não.\n",
            "Vale a pena ir para a UFU? Custo de vida e etc uma coisa que tem sido discutida e que acho que vai ser implementada em breve é a tarifa zero de transporte para estudantes -> [https://g1.globo.com/mg/triangulo-mineiro/noticia/2025/01/09/paulo-sergio-sanciona-lei-da-tarifa-zero-para-estudantes-em-uberlandia.ghtml](https://g1.globo.com/mg/triangulo-mineiro/noticia/2025/01/09/paulo-sergio-sanciona-lei-da-tarifa-zero-para-estudantes-em-uberlandia.ghtml)\n",
            "\n",
            "em relação ao transporte, eu posso dizer que existem linhas de ônibus que são muito boas e outras que nem tanto kkkkk tudo vai depender de quais você vai pegar. mas no geral eu considero o transporte público daqui bom\n",
            "\n",
            "em relação a ufu, ela disponibiliza os ônibus intercampi que também não custa nada (se vc precisar ir até um outro campus), e tem o restaurante universitário que mesmo para quem não tem auxílio não fica tão caro (3 reais por refeição)\n",
            "\n",
            "tem vários estabelecimentos/restaurantes que tem vaga pra freela, então não acho que seria tão difícil arrumar um trampo meio período\n",
            "\n",
            "mas se você quiser morar bem perto da faculdade, acho que você não vai conseguir algo por menos de 800 reais o aluguel. pra baratear eu sugiro olhar lugares num range de distância um pouco maior, mas que tenha perto uma linha de ônibus por exemplo\n",
            "Vale a pena ir para a UFU? Custo de vida e etc Auxílios daqui é até possível, mas atrasam muitas vezes.\n",
            "\n",
            "Transporte não é bom, por isso, se vier, não more no Santa Monica com intenção de pegar intercampi, more já no bairro do seu campus (Umuarama)\n",
            "\n",
            "O custo de vida é médio/caro, o uberlandense tem fama de 0 hospitalidade. (sou uberlandense e confirmo). Mas caramba, é medicina! A maioria da sua turma vai vir de fora também e você terá muito apoio. Só venha e seja bem vindo.\n",
            "Vale a pena ir para a UFU? Custo de vida e etc Cara vale sim.  Tem muito benefícios que vc vai conseguir.  Já entra em contato com a UFU. Manda email pra eles perguntando quais vc tem direito. Só vem. E parabéns cara. Tomara que vc seja um camarada e tenha MT a agregar com a galera daqui. Cola com o povo do partido da UP o correnteza que eles devem saber mais coisas\n",
            "Vale a pena ir para a UFU? Custo de vida e etc O custo de vida aqui é muito caro mesmo só pra ter noção um café é 50 reais, o povo daqui é bem burguês e difícil de fazer amizade, transporte público é de graça para estudantes a partir de fevereiro de 2025. Arrumar trabalho é oque pesa aqui porque em Uberlândia você só arruma emprego pro indicação, se você for mulher é bom lembrar que Uberlândia é a cidade com mais casos de feminicidio em Minas gerais.\n",
            "tem muitos auxílios mas você tem que tá morando na rua pra ser aprovado.\n",
            "Vale a pena ir para a UFU? Custo de vida e etc A cidade é cara demais não compensa viver aqui. pra ter noção um café 50 conto  Trabalho freelancer aqui é mais pro indicação, auxílio você consegue se tiver morando na rua. O povo de Uberlândia é fdp você não consegue fazer amizade com quase ninguém sem ser as pessoas que também não vem daqui.\n",
            "Vale a pena ir para a UFU? Custo de vida e etc Fala, meu amigo! Muito bom saber que você se interessou pela UFU. Eu sou servidor da Universidade e trabalhei muitos anos no Hospital de Clínicas. O perfil do ingressante em medicina mudou muito de uns anos pra cá. Antes era só gente que tinha dinheiro. Agora temos todo tipo de estudante e isso é maravilhoso. A UFU pode não ser a melhor universidade, mas está longe de ser ruim. Venha e realize seu sonho. Mas tenha em mente que a vida não vai ser fácil no início. Depois de formado você será muito recompensado. Seja humilde, aproveite as oportunidades que forem oferecidas e não deixe passar.\n",
            "\n",
            "Uberlândia é uma cidade de muitas oportunidades sim. Converse com as pessoas certas, mantenha a positividade e tente. Eu não perderia essa oportunidade. Venha! Se não der certo, ou não for o que vc esperava, tranque o curso, repense um tempo... Depois volte. Mas venha!\n",
            "Vale a pena ir para a UFU? Custo de vida e etc Eu moro no campus da medicina desde qndo nasci, Uberlândia é bem tranquilo. Se vc vem de cidades menores, pode ser q o custo de vida seja mais alto. Mas em relação ao transport eu acho até bem rápido. Vc pode pegar o transporte entre os campi tb. O Santa Monica é o bairro mais centralizado da cidade. Então vc n gasta tanto pra ir pra lá pq o transporte universitário é gratuito. Se vc tem possibilidades de passar, eu mudaria facilmente. Os auxílios são bons mas como toda federal vc fica a mercê de política. Já mudei de cidade e voltei pra uberlandia pq considerei a cidade mt melhor. Vc só vai ter q gastar com lazer, pq no campus umuarama não tem mt pra onde ir\n",
            "Vale a pena ir para a UFU? Custo de vida e etc Vale 100% eh a faculdade que tem os melhores cantos dos jogos como:\n",
            "\n",
            "UFU SEM F É U(h) U(h)!!\n",
            "\n",
            "Ou então\n",
            "\n",
            "UFU SEM U É Ffffff!\n"
          ]
        },
        {
          "output_type": "stream",
          "name": "stderr",
          "text": [
            "WARNING:praw:It appears that you are using PRAW in an asynchronous environment.\n",
            "It is strongly recommended to use Async PRAW: https://asyncpraw.readthedocs.io.\n",
            "See https://praw.readthedocs.io/en/latest/getting_started/multiple_instances.html#discord-bots-and-asynchronous-environments for more info.\n",
            "\n"
          ]
        },
        {
          "output_type": "stream",
          "name": "stdout",
          "text": [
            "E em Uberlândia? Famiglia Crosara\n",
            "E em Uberlândia? Carro de boi na última vez q eu fui foi patético. Comida, bebida e atendimento. \n",
            "Há uns 10 anos aquilo era maravilhoso.\n",
            "E em Uberlândia? Eu vou citar a Tropeiro. Mais cara que as concorrentes e não tem absolutamente nenhum diferencial. Pelo contrário, tem pouquíssimas e repetidas opções de carne. Mas está sempre cheia.\n",
            "E em Uberlândia? Toronto. Churrasqueiro não sabe o que são os pontos da carne. Para ele, ao ponto é muito passada e bem passada é um pedaço de carvão! Ainda quis brigar comigo por tentar questionar o ponto que eu queria!\n",
            "\n",
            "Amarantus, qualquer comida é péssima!\n",
            "\n",
            "Koichi o rodízio não é fresco, sempre dá dor de barriga!\n",
            "\n",
            "Tropeiro, as carnes não são frescas, dor de barriga também! \n",
            "\n",
            "No entanto há lugares ótimos, caso queiram indicações me procurem!\n",
            "E em Uberlândia? Mitsui sushi e Carro de boi\n",
            "E em Uberlândia? Fui no rodízio do Outback e foi terrível\n",
            "E em Uberlândia? Quero Japa (Cidade Jardim). O nome é péssimo e nunca iria pelo nome, mas o local é muito bonito e esperava abrir para conhecer pois é perto de casa e minha esposa adora japonês.\n",
            "\n",
            "Tomei uma sopinha japonesa de entrada - desculpe, não sei os nomes - que estava boa. Quando chegou no principal, sushi e etc, simplesmente mal feito. Parecia que a pessoa estava aprendendo a fazer.\n",
            "E em Uberlândia? Outback\n",
            "E em Uberlândia? Mitsui Sushi, Yakisoba veio com um verme e a dona ainda me disse que fui eu que coloquei, não me devolveu o dinheiro. Fiz a denúncia na vigilância mas não virou nada.\n",
            "Edit: o macarrão era miojo, e pedi tbm uma tigela de arroz japonês e veio arroz comum tipo agulhinha...\n",
            "E em Uberlândia? Caramel\n"
          ]
        },
        {
          "output_type": "stream",
          "name": "stderr",
          "text": [
            "WARNING:praw:It appears that you are using PRAW in an asynchronous environment.\n",
            "It is strongly recommended to use Async PRAW: https://asyncpraw.readthedocs.io.\n",
            "See https://praw.readthedocs.io/en/latest/getting_started/multiple_instances.html#discord-bots-and-asynchronous-environments for more info.\n",
            "\n"
          ]
        },
        {
          "output_type": "stream",
          "name": "stdout",
          "text": [
            "Alguém me indica lugares pra cultura geek em Uberlândia? Cara, temos o grupo de board games no sub e há também um grupo maior de RPG que fazem atividades direto na Awaken Giants. \n",
            "\n",
            "https://chat.whatsapp.com/JvHffyOdh0i2ZIo5gy3XER\n",
            "\n",
            "Entre e mande um oi\n"
          ]
        },
        {
          "output_type": "stream",
          "name": "stderr",
          "text": [
            "WARNING:praw:It appears that you are using PRAW in an asynchronous environment.\n",
            "It is strongly recommended to use Async PRAW: https://asyncpraw.readthedocs.io.\n",
            "See https://praw.readthedocs.io/en/latest/getting_started/multiple_instances.html#discord-bots-and-asynchronous-environments for more info.\n",
            "\n"
          ]
        },
        {
          "output_type": "stream",
          "name": "stdout",
          "text": [
            "teste do aviso de emergência da defesa civl Todo mundo recebeu, a prefeitura inclusive postou que isso ia acontecer.\n",
            "teste do aviso de emergência da defesa civl Recebi também e achei muito interessante. Bacana é que funcionou, tocou um som que nunca tinha ouvido no celular.\n",
            "teste do aviso de emergência da defesa civl cara, maior susto. todo mundo aqui em casa se desesperou kkkkkkkk mas funciona ao menos\n",
            "teste do aviso de emergência da defesa civl Eu e meu irmão estávamos almoçando e tocou aqui, a gente levou o maior susto, fiquei tão assustada que nem consegui ler o que tava escrito no alerta kkkkkkkkk\n",
            "teste do aviso de emergência da defesa civl Eu pretendia cortar meu cabelo hoje 18h30, devo ir?\n"
          ]
        },
        {
          "output_type": "stream",
          "name": "stderr",
          "text": [
            "WARNING:praw:It appears that you are using PRAW in an asynchronous environment.\n",
            "It is strongly recommended to use Async PRAW: https://asyncpraw.readthedocs.io.\n",
            "See https://praw.readthedocs.io/en/latest/getting_started/multiple_instances.html#discord-bots-and-asynchronous-environments for more info.\n",
            "\n"
          ]
        },
        {
          "output_type": "stream",
          "name": "stdout",
          "text": [
            "Tenho impressão que udi nunca tem rolê alternativo Pô, mas aqui tem coisa pra todos os gostos.  \n",
            "Se for de JAZZ q tu ta falando, direto tem coisa do tipo no Vinil...   \n",
            "No harley tb em frente ao parque, direto.  \n",
            "É que aqui é mais concentrado no centro e tal, no Fundinho tb tem mt rolê \"diferente\" vale a pena dar uma oiada.\n",
            "Tenho impressão que udi nunca tem rolê alternativo Lugares convencionais alternativos aqui em udia só tem pessoas convencionais, mesmo sendo um lugar “aparentemente” alternativo. Aparentemente mesmo, porque apesar de aqui ter uma infraestrutura de cidade grande a consciência das pessoas é de cidade pequena (conservadores, criados em condomínios, classe média e etc). Se você quer experiências alternativas você precisa ficar ligado no underground, fora desses bares supostamente alternativos; conhecer a galera e etc. Afinal muito da cultura daqui é do centro oeste que dá destaque pro sertanejo e coisas do gênero. Olha-se os bares mais populares, os que ficam perto da UFU ou até mesmo os restaurantes da Rondon\n",
            "Tenho impressão que udi nunca tem rolê alternativo Tem bastante, mas geralmente é o tipo de rolê que muitas vezes a gente fica sabendo depois que aconteceu. Vários festivais pequenos de música indie autoral (caiochella por exemplo, festival maisqv). A divulgação que não é boa, como nunca é geralmente nesses casos.\n",
            "\n",
            "Mas se começar a treinar o algo no Insta por exemplo começam a aparecer algumas recomendações interessantes. Mas lugar que geralmente tem é o Vinil como já falaram, Benedith de vez enquando tem. Quintal as vezes tem coisa massa, mas geralmente nacional... Coletivo Capuvara também tem uns eventos interessantes...\n",
            "Tenho impressão que udi nunca tem rolê alternativo Mas não tem mesmo kkkkkrying\n",
            "Tenho impressão que udi nunca tem rolê alternativo Caramba, ler que o lugar da um pessoal mais velho na faixa de 30 anos.... tenso!\n",
            "Tenho impressão que udi nunca tem rolê alternativo Tem, vc só não faz parte da panela\n",
            "Tenho impressão que udi nunca tem rolê alternativo KKKKKKKK é foda maninho. Tô com 34.mais perto dos 50 do que dos 20 definitivamente\n",
            "Tenho impressão que udi nunca tem rolê alternativo Segue o coletivo capivara nas redes que eles sempre divulgam role bom\n"
          ]
        },
        {
          "output_type": "stream",
          "name": "stderr",
          "text": [
            "WARNING:praw:It appears that you are using PRAW in an asynchronous environment.\n",
            "It is strongly recommended to use Async PRAW: https://asyncpraw.readthedocs.io.\n",
            "See https://praw.readthedocs.io/en/latest/getting_started/multiple_instances.html#discord-bots-and-asynchronous-environments for more info.\n",
            "\n"
          ]
        },
        {
          "output_type": "stream",
          "name": "stdout",
          "text": [
            "Bares em uberlandia Tem que existir uma denúncia formal no [Ministério do Trabalho.](https://www.gov.br/pt-br/servicos/realizar-denuncia-trabalhista)\n",
            "Bares em uberlandia O único que sei que inclusive registra quem trampa lá é o Arquibancada.\n",
            "\n",
            "De resto é essa zona aí mesmo.\n",
            "Bares em uberlandia Pra vc ver como décadas de política de esquerda, aumento absurdo de tributos, taxas para sindicados corruptos, não serviram, e não servem, de nada. Você mesmo viu aí a questão de uma pessoa levantar a bandeira em uma hora, e na outra simplesmente ignorar.\n",
            "\n",
            "Mas tem algo pior acontecendo de forma geral, que eu até falaria para o pessoa que está sofrendo nem achar muito ruim, que é a quantidade de estabelecimentos sendo fechados esse ano. Aqui no Roosevelt, e os lugares que pedia comida em outros bairros, posso dizer que a maioria fechou. Uma coisa esquisita, que só lembro de ver parecido naqueles 2 primeiros meses de.pandemia 100%. Umas lojinhas aqui perto de casa já rodaram para uns 3 empreendimentos diferentes esse ano. Ano passado tava uma distribuidora, um espetinho e um sacolão de boa. Perto da academia tem uma distribuidora, que já mudou de dono umas 3 vezes esse ano. Uma loja agropecuária virou distribuidora (vai fechar rapidinho pelo histórico da proximidade).\n",
            "\n",
            "O que digo é que esses empreendimentos pequenos, ser atendente de loja, o negócio é torcer para CONTINUAR do jeito que está, pq dos lados as lojas estão fechando aos montes. Dói de ver a quantidade de sonhos que são fechados. Parece que a cada semana na cesário crossara fecha alguma coisa, um sonho que vai embora, para um mês depois começar um sonho novo, que dificilmente vinga.\n"
          ]
        },
        {
          "output_type": "stream",
          "name": "stderr",
          "text": [
            "WARNING:praw:It appears that you are using PRAW in an asynchronous environment.\n",
            "It is strongly recommended to use Async PRAW: https://asyncpraw.readthedocs.io.\n",
            "See https://praw.readthedocs.io/en/latest/getting_started/multiple_instances.html#discord-bots-and-asynchronous-environments for more info.\n",
            "\n"
          ]
        },
        {
          "output_type": "stream",
          "name": "stdout",
          "text": [
            "Qual a pira de uberlandia com palmeiras? Não da pra ter um plano de arborização sério? Não sei exatamente a resposta, mas claramente tem a ver com a administração.\n",
            "\n",
            "Para ter uma ideia, o vice-prefeito tava no Instagram esses dias negando que existe uma crise climática.\n",
            "Qual a pira de uberlandia com palmeiras? Não da pra ter um plano de arborização sério? Não sou de uberlandia, mas sou engenheiro civil com especialização em infraestrutura e gestão de cidades e esse post apareceu pra mim então vou comentar.\n",
            "\n",
            "A escolha provavelmente foi por facilidade de manutenção, dado que com uma palmeira ela praticamente ela só cresce pra cima (então fica mais facil de planejar o espaço, ex: nunnca vai precisar cortar galho que estaria perto de fio eletrico). E a única manutenção é ter que catar as folhas que caem. \n",
            "\n",
            "Se quer saber minha humilde opinião, acho uma escolha porca e preguiçosa, palmeira é uma arvore que como vc falou além de não fazer quase nada de sombra é relativamente fragil. Por exemplo Rondonopolis no MT foi encher a cidade de Palmeira e  isso atraiu algumas araras pra cidade, as araras por sua vez matam as palmeira pra fazer ninho, deixando a cidade cheia de arvores mortas.\n",
            "\n",
            "Tem 2 soluções:\n",
            "\n",
            "- a primeira e mais ética seria tentar postar sua reclamação (de preferência sua e de mais uma galera) em algum canal da prefeitura e ver se eles se mobilizam pra aumentar a arborização.\n",
            "\n",
            "- A segunda e um pouco menos ética (mais facil se for perto da sua casa e tiver um dinheiro sobrando) é comprar umas mudas de arvores protegidas tipo ipê amarelo e sair plantando na avenida, se alguma das arvores protegidas vingar a prefeitura vai precisar passar por um milhao de tramites com o Ibama e provavelmente nao vai conseguir tirar.\n",
            "Qual a pira de uberlandia com palmeiras? Não da pra ter um plano de arborização sério? Merda na cabeça é a explicação. Palmeira serve pra nada. Faz 0 sombra.\n",
            "Qual a pira de uberlandia com palmeiras? Não da pra ter um plano de arborização sério? Palmeiras em cidade de Minas Gerais não dá. Palmeiras é time paulista\n",
            "Qual a pira de uberlandia com palmeiras? Não da pra ter um plano de arborização sério? Muito palmeirense infiltrado na prefeitura, o sistema é foda parceiro.\n",
            "Qual a pira de uberlandia com palmeiras? Não da pra ter um plano de arborização sério? Eu acho que é uma opção de estilo mesmo. Mas no geral considero Uberlândia uma cidade bem arborizada.\n",
            "Qual a pira de uberlandia com palmeiras? Não da pra ter um plano de arborização sério? É o maior time do país irmão, apenas aceite a homenagem\n",
            "Qual a pira de uberlandia com palmeiras? Não da pra ter um plano de arborização sério? Vc precisa ver a frente do pátio berlamino\n",
            "Qual a pira de uberlandia com palmeiras? Não da pra ter um plano de arborização sério? Muito palmeirense infiltrado na prefeitura, o sistema é foda parceiro.\n",
            "Qual a pira de uberlandia com palmeiras? Não da pra ter um plano de arborização sério? E qual problema seu apae do caralho, planta tu alguma merda.\n"
          ]
        },
        {
          "output_type": "stream",
          "name": "stderr",
          "text": [
            "WARNING:praw:It appears that you are using PRAW in an asynchronous environment.\n",
            "It is strongly recommended to use Async PRAW: https://asyncpraw.readthedocs.io.\n",
            "See https://praw.readthedocs.io/en/latest/getting_started/multiple_instances.html#discord-bots-and-asynchronous-environments for more info.\n",
            "\n"
          ]
        },
        {
          "output_type": "stream",
          "name": "stdout",
          "text": [
            "Festa de Halloween do r/Uberlandia  Vam vam vam!\n",
            "Festa de Halloween do r/Uberlandia  E prêmio de fantasia? Tem que ter prêmio\n"
          ]
        },
        {
          "output_type": "stream",
          "name": "stderr",
          "text": [
            "WARNING:praw:It appears that you are using PRAW in an asynchronous environment.\n",
            "It is strongly recommended to use Async PRAW: https://asyncpraw.readthedocs.io.\n",
            "See https://praw.readthedocs.io/en/latest/getting_started/multiple_instances.html#discord-bots-and-asynchronous-environments for more info.\n",
            "\n"
          ]
        },
        {
          "output_type": "stream",
          "name": "stdout",
          "text": [
            "Conhecem o Quintaducheff? Tá bonito, entrei no Instagram deles pra ver o cardápio, mas não tem. \n",
            "\n",
            "Infelizmente eu vejo algo assim e já presumo que vai ser caro hsuahsuahsauhs\n",
            "Conhecem o Quintaducheff? Apesar de ser uberlandense, vivi muito tempo fora e agora que estou voltando a cidade. \n",
            "\n",
            "To tentando explorar a cena de barzinhos na cidade e esse lugar aí me deixou salivando. \n",
            "\n",
            "Créditos a [Géssica Ribeiro, no IG](https://www.instagram.com/reel/CymOZMVLSf9/?utm_source=ig_web_copy_link&igshid=MzRlODBiNWFlZA==).\n",
            "Conhecem o Quintaducheff? Valeu OP! Sempre bom recomendação. Não sei porque, mas alguns lugares aqui meio que saturam muito rápido e caem no esquecimento (vide Lirochef), alguns até chegam a fechar.\n",
            "Conhecem o Quintaducheff? Que brabo não conhecia. Vamos combinar de ir lá tchurma da net!\n"
          ]
        },
        {
          "output_type": "stream",
          "name": "stderr",
          "text": [
            "WARNING:praw:It appears that you are using PRAW in an asynchronous environment.\n",
            "It is strongly recommended to use Async PRAW: https://asyncpraw.readthedocs.io.\n",
            "See https://praw.readthedocs.io/en/latest/getting_started/multiple_instances.html#discord-bots-and-asynchronous-environments for more info.\n",
            "\n"
          ]
        },
        {
          "output_type": "stream",
          "name": "stdout",
          "text": [
            "Porque a UPA aqui em Uberlândia chama UAI? Por que a UAI em outras cidades chama UPA? É uma boa pergunta também.\n",
            "Porque a UPA aqui em Uberlândia chama UAI? Basicamente Uberlândia não tem o SUS propriamente dito, toda a gestão municipal de saúde é feita por terceirizadas, OSC especialmente, SPDM e Sal da Terra. O município faz apenas a fiscalização, UPA é um modelo ligado ao Ministério da Saúde, SUS propriamente dito.\n",
            "Porque a UPA aqui em Uberlândia chama UAI? Unidade de Atendimento Integrado :]\n",
            "Porque a UPA aqui em Uberlândia chama UAI? Pq mineiro é diferenciado akakkaka\n",
            "Porque a UPA aqui em Uberlândia chama UAI? pq a ufmg não se chama UEPA? Kkkkkkk\n",
            "Porque a UPA aqui em Uberlândia chama UAI? Socorro, uai\n",
            "Porque a UPA aqui em Uberlândia chama UAI? Porque antes de existir UPA, já existiam as UAIs em Uberlândia.\n",
            "Porque a UPA aqui em Uberlândia chama UAI? Basicamente é só uma mudança de nome, mas também reflete um pouco no financiamento. A gestão da saúde é feita de maneira compartilhada entre a união, o estado e o município. \n",
            "Esses repasses daí feitos baseados na população que cada unidade atende: quantidade, origem etc. \n",
            "Aqui em Uberlândia, especificamente, se não me engano, a verba municipal destinada para as UAIs é maior do que a estadual. Nas Upas, esse percentual muda um pouco, resultando em mais verba do estado.\n",
            "Porque a UPA aqui em Uberlândia chama UAI? Na minha cidade tem UAI, mas é pra lidar com documentos, emissão de RG e CPF, essas coisas…\n",
            "Porque a UPA aqui em Uberlândia chama UAI? Mas UAI não é diferente de UPA? Até onde sei, UAI é mais para atendimentos básicos e rápidos para urgências simples e UPA para atendimentos mais amplos, para estabilização de casos mais graves de urgências e emergências. O que muda é o nível de complexidade, não? Me corrijam se não for isso…\n",
            "Porque a UPA aqui em Uberlândia chama UAI? UAI aqui em bh é onde fica o detran, onde fazemos documentos, coisas burocráticas\n",
            "Porque a UPA aqui em Uberlândia chama UAI? Pao de queijo moment\n",
            "Porque a UPA aqui em Uberlândia chama UAI? Kkkkkkkkkkkkkkk eu ri\n",
            "Porque a UPA aqui em Uberlândia chama UAI? Uai, sô, é pq vc tá em Minas Gerais\n",
            "Porque a UPA aqui em Uberlândia chama UAI? É que na verdade existem as duas e elas tem propósitos diferentes, a UAI é unidade de atendimento integrado, que desde a época do covid passou a ser unicamente destinada pra emergências no geral. A UPA, unidade de pronto atendimento, passou a ser mais comum pra consultas com horário marcado/marcar consulta e tratamentos a longo prazo (fisioterapia, exames de rotina, etc…)\n"
          ]
        },
        {
          "output_type": "stream",
          "name": "stderr",
          "text": [
            "WARNING:praw:It appears that you are using PRAW in an asynchronous environment.\n",
            "It is strongly recommended to use Async PRAW: https://asyncpraw.readthedocs.io.\n",
            "See https://praw.readthedocs.io/en/latest/getting_started/multiple_instances.html#discord-bots-and-asynchronous-environments for more info.\n",
            "\n"
          ]
        },
        {
          "output_type": "stream",
          "name": "stdout",
          "text": [
            "🚨ADOÇÃO RESPONSÁVEL 🚨 Ainda não conseguiu? :/ \n",
            "\n",
            "Vou te ajudar a divulgar tbm e postar numas redes. Se puder, passe seu número no privado para eu encaminhar para os interessados\n"
          ]
        },
        {
          "output_type": "stream",
          "name": "stderr",
          "text": [
            "WARNING:praw:It appears that you are using PRAW in an asynchronous environment.\n",
            "It is strongly recommended to use Async PRAW: https://asyncpraw.readthedocs.io.\n",
            "See https://praw.readthedocs.io/en/latest/getting_started/multiple_instances.html#discord-bots-and-asynchronous-environments for more info.\n",
            "\n"
          ]
        },
        {
          "output_type": "stream",
          "name": "stdout",
          "text": [
            "Esse é o sub principal de Uberlândia? Meio morto aqui hein Povo de Uberlândia no geral nem sabe o que é Reddit, só querem saber de Camaru e churrasco\n",
            "Esse é o sub principal de Uberlândia? Meio morto aqui hein Realmente é bem bem morto aqui.\n",
            "Esse é o sub principal de Uberlândia? Meio morto aqui hein Nem sabia que isso existia e que eu seguia kkkk\n",
            "Esse é o sub principal de Uberlândia? Meio morto aqui hein Sub gerenciado pelo Odelmo: proibido postagem depois das 22:00 e apenas postagens sobre festa junina são permitidas.\n",
            "Esse é o sub principal de Uberlândia? Meio morto aqui hein 💀\n",
            "Esse é o sub principal de Uberlândia? Meio morto aqui hein Opa, deixei passar esse post, mas tô aqui firme e forte, pro meu berrante tocar.\n",
            "Esse é o sub principal de Uberlândia? Meio morto aqui hein Não tem muitos membros também\n",
            "Esse é o sub principal de Uberlândia? Meio morto aqui hein O moderador fica só nos sub em inglês kkkkkkkk\n",
            "Esse é o sub principal de Uberlândia? Meio morto aqui hein Morto tal qual a cidade\n"
          ]
        },
        {
          "output_type": "stream",
          "name": "stderr",
          "text": [
            "WARNING:praw:It appears that you are using PRAW in an asynchronous environment.\n",
            "It is strongly recommended to use Async PRAW: https://asyncpraw.readthedocs.io.\n",
            "See https://praw.readthedocs.io/en/latest/getting_started/multiple_instances.html#discord-bots-and-asynchronous-environments for more info.\n",
            "\n"
          ]
        },
        {
          "output_type": "stream",
          "name": "stdout",
          "text": [
            "Pq só tem 2 cinemas nessa cidade? Com 2 cinemas a lotação fica longe da máxima na maioria dos dias, imagina se tivesse mais, diluiria o público e consequentemente fechariam, por isso só tem dois. Não há publico suficiente para mais do que isso.\n",
            "Pq só tem 2 cinemas nessa cidade? Assina o Cinemark Club. Por 40 reais, você ganha dois ingressos por mês (que acumula), tem direito a meia-entrada e descontos nos snacks. Além disso, as salas do Cinemark de Uberlândia são muito boas e as telas são lindas. Na minha opinião, vale muito a pena. Pelo preço e pela qualidade do cinema.\n",
            "Pq só tem 2 cinemas nessa cidade? Eu acho proibitivo pagar 55 reais pra ver um filme, eu prefiro esperar sair pirata que pagar esse absurdo, se eu levo minha namorada o valor dobra\n",
            "Pq só tem 2 cinemas nessa cidade? E tambem, so filme da marvel e filme de crente, pagando 50 reais eu prefiro o torrent\n",
            "Pq só tem 2 cinemas nessa cidade? Acho um porre ter só dois tbm. \n",
            "\n",
            "Sinto falta de um cinema que passe filmes além de blockbusters: filmes indies, filmes antigos, fazer catálogos temáticos, etc\n",
            "\n",
            "Só temos essas franquias superfaturadas mesmo\n",
            "Pq só tem 2 cinemas nessa cidade? Uberlândia receber tão poucas peças de teatro também é de se questionar.\n",
            "Pq só tem 2 cinemas nessa cidade? Já é 2 cinemas a mais que Araguari!!\n",
            "Pq só tem 2 cinemas nessa cidade? Tinha mais antigamente mais ngm vai nessa bosta\n",
            "Pq só tem 2 cinemas nessa cidade? Falta de público.\n"
          ]
        },
        {
          "output_type": "stream",
          "name": "stderr",
          "text": [
            "WARNING:praw:It appears that you are using PRAW in an asynchronous environment.\n",
            "It is strongly recommended to use Async PRAW: https://asyncpraw.readthedocs.io.\n",
            "See https://praw.readthedocs.io/en/latest/getting_started/multiple_instances.html#discord-bots-and-asynchronous-environments for more info.\n",
            "\n"
          ]
        },
        {
          "output_type": "stream",
          "name": "stdout",
          "text": [
            "Melhores comidas de uberlândia Ótimo tópico! \n",
            "\n",
            "Essencial pães. É uma padaria no santa mônica, mas que também faz lanches na hora. \n",
            "\n",
            "Gosto de passar lá depois q vou no parque do sabiá para comer pão com linguiça ou pão com pernil e catupiri. Usam bons ingredientes e possuem um valor bacana.  \n",
            "\n",
            "\n",
            "https://maps.app.goo.gl/r3fjTkFPsc1erzrH8\n",
            "Melhores comidas de uberlândia Kebab Síria, na Rio Branco, o Primo faz as melhores esfirras da cidade e são bem baratas. O kebab também é muito bom, o melhor que já comi.\n",
            "Melhores comidas de uberlândia Por do Sol no jardim Brasília, simplesmente os melhores bolos e tortas que já comi, e as roscas também são uma delícia\n",
            "Melhores comidas de uberlândia Espetinho do Celso\n",
            "\n",
            "Na Ortizio Borges, esquina com a antiga 5, no Santa Mônica. Não tem o estabelecimento no Google.\n",
            "\n",
            "Barzinho bem copo sujo, mas que tem o melhor espetinho que eu comi na vida inteira.\n",
            "\n",
            "Não tem jantinha nem nada, apenas os acompanhamentos simples, e as vezes o preço assusta, mas é o melhor e maior espetinho que já comi na vida. E ele tem muita carne, deve ter quase uns 300 gramas de carne e o tiozinho lá do bar faz um empratamento com os acompanhamentos e um molho de cebola maravilhoso.\n",
            "Melhores comidas de uberlândia Sempre fui no quitanda. É uma cafeteria muito top. Gosto do ambiente lá\n",
            "Melhores comidas de uberlândia Sushi:\n",
            "Kaizen sushi.\n",
            "\n",
            "Dogao:\n",
            "Au au lanches (cachorro quente maravilhoso).\n",
            "\n",
            "Hamburguer:\n",
            "1- Vitelo(Uberlândia shopping)\n",
            "2 - Benedith (peça o hambúrguer do monge, tbm tem a melhor cerveja da cidade)\n",
            "3 - punch\n",
            "4 - Bauhaus\n",
            "\n",
            "Cerveja:\n",
            "1- Benedith\n",
            "2- nuh beber\n",
            "Melhores comidas de uberlândia Se for bolos e doces Sodiê doces, melhor lugar que tem aqui.\n"
          ]
        },
        {
          "output_type": "stream",
          "name": "stderr",
          "text": [
            "WARNING:praw:It appears that you are using PRAW in an asynchronous environment.\n",
            "It is strongly recommended to use Async PRAW: https://asyncpraw.readthedocs.io.\n",
            "See https://praw.readthedocs.io/en/latest/getting_started/multiple_instances.html#discord-bots-and-asynchronous-environments for more info.\n",
            "\n"
          ]
        },
        {
          "output_type": "stream",
          "name": "stdout",
          "text": [
            "Fotos do Halloween do r/Uberlândia As fotos ficaram horríveis pela ausência do nosso fotógrafo oficial u/ArchibaldBartholomew\n",
            "Fotos do Halloween do r/Uberlândia A fantasia do monstro do comunismo é muito boa rsssss\n"
          ]
        },
        {
          "output_type": "stream",
          "name": "stderr",
          "text": [
            "WARNING:praw:It appears that you are using PRAW in an asynchronous environment.\n",
            "It is strongly recommended to use Async PRAW: https://asyncpraw.readthedocs.io.\n",
            "See https://praw.readthedocs.io/en/latest/getting_started/multiple_instances.html#discord-bots-and-asynchronous-environments for more info.\n",
            "\n"
          ]
        },
        {
          "output_type": "stream",
          "name": "stdout",
          "text": [
            "Mudando para Uberlândia  eu trabalho no setor de segurança da polícia militar de Uberlândia e claro ainda é uma cidade no Brasil e tem crimes ocasionalmente mas por incrível que pareça ela foi classificada com a terceira mais segura pra se viver no país, aqui tem câmera de monitoramento da polícia até na zona rural\n",
            "Mudando para Uberlândia  A cidade é bem segura, mas a média salarial é baixa, não recomendo criar expectativas\n",
            "Mudando para Uberlândia  De qual cidade vc está vindo?\n",
            "\n",
            "A Universidade Federal tem alguns campi na cidade. Então dependendo do curso que vc vai fazer, a gente pode te ajudar melhor em relação a bairros e a segurança dos mesmos.\n",
            "\n",
            "O pessoal de Uberlândia é meio fechado, tem fama de \"metido\" , de não falar com os outros, tem uma fissura em exaltar a cidade, falando que é a melhor do mundo, a mais linda, a mais perfeita, e as vezes até acham que de fato está em uma metrópole. Mas no cenário universitário talvez seja diferente.\n",
            "Mudando para Uberlândia  Opa, boa noite!  \n",
            "Sou professor na cidade, te digo com responsabilidade que é uma cidade bem \"ok\" de viver...  \n",
            "Eu acho relativamente seguro, moro na zona leste daqui e não tenho mt do que reclamar sobre isso.  \n",
            "Agora, falando de mercado de trabalho você está vindo no pior polo de oportunidades para trabalho do país.  \n",
            "gl  \n",
            "Ah, eu faço Letras Ingles na UFU a noite, se eu puder ajudar em algo só chamar manim!\n",
            "Mudando para Uberlândia  Pra mim é a capital mundial do analfabeto funcional. Um lugar com péssimo nível cultural. A única coisa que as pessoas fazem é beber e escutar músicas da pior qualidade.(Até porque não tem muito pra onde correr).Uma cidade de quase 700 mil habitantes que está fechando as suas 2 últimas livrarias. Uma cidade onde as pessoas acham bonito assassinar a língua portuguesa ( não estou falando de sotaque) e para completar o menor salário médio entre as grandes cidades do sudeste. Teresina da de 1000 se quer saber minha opinião.\n",
            "Mudando para Uberlândia  A biblioteca da UFU é magnífica e o dboche é um dos unicos bares alternativos da cidade onde só rola música boa. Nele vc tem projetos gratuitos como prosa na sombra (acolhimento psicológico) e cursos de dança, teatro, boxe e fotografia.\n",
            "Mudando para Uberlândia  queria eu muito morar em Uberlandia... estive la em 2023 e 2022. Comi rodízio de carne bem abaixo do valor que eu pagaria em BH.\n",
            "Mudando para Uberlândia  op também sou de teresina e estou morando em udia faz uns 5 meses por conta do mestrado que vim fazer aqui. a cidade no geral é bem segura e bem mais barata que outras capitais. uberlandia chega a ser parecida com teresina no quesito de ser uma cidade meio de interior mas com problemas de cidade grande. ainda nao consegui conhecer a cidade fora da bolha universitária, mas ainda assim aqui tem boas opções de saídas e lazer\n",
            "Mudando para Uberlândia  Agora a parada ficou séria,  vi esse post e posso dizer com todas as letras ao amigo que precisa de ajuda e informações sobre morar em Uberlândia,  assim como você eu também estou indo morar aí em Uberlândia então tudo que você precisar saber eu também preciso kkkkk . O que podem me falar sobre a cidade? Aluguéis é em conta? E valor parar compra de casas ? Sou publicitária e técnico segurança trabalho,  mercado trabalho ai ouvi falar que meio ruim,  mas no geral ? Em qualquer área? Pq cidade tem 700 mil habitantes,  não entendi,  era pra ter mercado bom , absorvendo bem. Estou vindo de Ribeirão Preto e estava entre morar em São José so Rio Preto e Uberlândia,  nas duas cidades,  Ribeirão e Rio preto tem tudo pra todos os bolsos, se quiser morar numa casa de até 500 reais aluguel, consegue,  se quiser morar numa de 2 mil aluguel,  consegue,  se quiser sair e gastar 100 reais comendo e comprando consegue,  se quiser gastar 1 mil comendo,  consegue. Mas Uberlândia,  como é?\n",
            "Mudando para Uberlândia  Eu estou mudando pra udi tbm, e estive em julho por 1 semana pra viver um pouco da cidade e gostei do que vi, quem fala mal da cidade, talvez não veio de uma cidade pior, então ok! os bairros bons de toda cidade tbm são alvos de assaltos, mais uma coisa que me chamou atenção foi o tanto de ruas e bairros com câmeras nos muros nuhhh kkkkkk sou do interior de minas e conheço bem BH(capital) e UDI é mto mais barato,e mais seguro. Ao meu ver é melhor ainda pra família. Já o Fato de quem não liga pra achar pessoas agradáveis pra amizade, é de boa, pq eu mesmo não cv com nenhum vizinho aqui da minha cidade e tbm não ando a pé a noite em lugar nenhum. Aluguel pra quem quer morar em casa com família e ( 4 Pets) como eu não acha menos de 1800, mas aqui na minha cidade tbm é isso. Uma dica: nos inúmeros vídeos de melhores cidades pra morar, em vários tem Uberlândia. E fiz essa mesma estadia em Juiz de fora, Valadares e montes claros e pra mim A PRINCESINHA foi a escolha!\n",
            "Qual outro meme uberlandense faz parte do patrimônio cultural? Aquele cara que bateu o carro e deu entrevista bebado\n",
            "Qual outro meme uberlandense faz parte do patrimônio cultural? Haha, po não conheço os primeiros dois. Qual o contexto?\n",
            "Qual outro meme uberlandense faz parte do patrimônio cultural? O vídeo do ticutecu da jhuarantes \"mulher se revolta com pergunta sobre BBB 23\" Não tem a espontaneidade de um meme, mas foi produzido em Uberlândia - se nao me engano - e sempre gasto um minuto sorrindo sobre essa cidade abandonada por deus\n",
            "Qual outro meme uberlandense faz parte do patrimônio cultural? Aquele cara no carro quase embaixo d'água na Rondon, super otimista \"graças a Deus tamo em segurança\" [YouTube link](https://youtu.be/3WIdfGHti9Q?si=X7_NuvojhjUUHkas)\n",
            "Qual outro meme uberlandense faz parte do patrimônio cultural? O maluco que fala cê filma e fala cê é o bichão mesmo doido\n"
          ]
        }
      ]
    },
    {
      "cell_type": "code",
      "source": [
        "#Questão 04\n",
        "\n",
        "# Importa o pandas\n",
        "import pandas as pd\n",
        "\n",
        "# Cria o dataframe\n",
        "posts_list = []\n",
        "\n",
        "# Cria uma instância Reddit com suas credenciais de autenticação\n",
        "reddit = praw.Reddit(client_id='ZPP_AKMYMlkWGirfe5uvJQ',\n",
        "client_secret='xfBbS8TwZ_ISFbwT9vsvDGQu1BXJ7Q', user_agent='myapp')\n",
        "\n",
        "# Define todos subreddits como parte da procura\n",
        "subreddit = reddit.subreddit(\"all\")\n",
        "\n",
        "# Obtém os top 100 posts em todos subreddits\n",
        "top_posts = subreddit.top(limit=100)\n",
        "\n",
        "\n",
        "# Adiciona os dados a lista\n",
        "for post in subreddit.search('depressão AND ansiedade'):\n",
        "  posts_list.append({\n",
        "      'title': post.title,\n",
        "      'text': post.selftext,\n",
        "      'score': post.score,\n",
        "      'id': post.id,\n",
        "      'url': post.url,\n",
        "  })\n",
        "\n",
        "# Transforma em DataFrame\n",
        "posts_data = pd.DataFrame(posts_list)\n",
        "\n",
        "# Imprime os primeiros 20 posts\n",
        "print(posts_data.head(20))"
      ],
      "metadata": {
        "colab": {
          "base_uri": "https://localhost:8080/"
        },
        "id": "-4YwZnOsnwRX",
        "outputId": "c8110437-02aa-4517-ef5e-9fceaefd8f4a"
      },
      "execution_count": null,
      "outputs": [
        {
          "output_type": "stream",
          "name": "stderr",
          "text": [
            "WARNING:praw:It appears that you are using PRAW in an asynchronous environment.\n",
            "It is strongly recommended to use Async PRAW: https://asyncpraw.readthedocs.io.\n",
            "See https://praw.readthedocs.io/en/latest/getting_started/multiple_instances.html#discord-bots-and-asynchronous-environments for more info.\n",
            "\n"
          ]
        },
        {
          "output_type": "stream",
          "name": "stdout",
          "text": [
            "                                                title  \\\n",
            "0   Depois de um AVC em abril de 2024, um ano péss...   \n",
            "1   por favor me deem dicas de como melhorar a min...   \n",
            "2   Crise de saúde mental: Brasil tem maior número...   \n",
            "3   Brasil tem maior número de afastamentos por an...   \n",
            "4   Terminei o tratamento contra depressão/ansiedade.   \n",
            "5   Você realmente possui algum desvio psicológico...   \n",
            "6   Psicólogo me encaminhou ao psiquiatra devido m...   \n",
            "7   \"Pai, fiz a matrícula\"! Minha filha vai para a...   \n",
            "8   Quando Deus entra em sua vida, você se cura de...   \n",
            "9   DESABAFO: DESEMPREGO, DESESPERO,  DEPRESSÃO, A...   \n",
            "10  Perdi 20kg e o medo abissal que eu tinha de ir...   \n",
            "11  Rodrigo Faro diz que  “bíblia e academia” cura...   \n",
            "12  Conheci uma garota que nem estuda e nem trabal...   \n",
            "13  Estamos em uma era de zumbis? Por que todo mun...   \n",
            "14  Saúde mental nos estudantes do Ensino Superior...   \n",
            "15  Médico da PM chama policial com depressão prof...   \n",
            "16  Voltando a me exercitar após meses em crise se...   \n",
            "17  A sua ansiedade/depressão melhorou ou piorou d...   \n",
            "18              TDAH, suicídio, depressão e ansiedade   \n",
            "19  Sair sozinho tem me ajudado a curar minha depr...   \n",
            "\n",
            "                                                 text  score       id  \\\n",
            "0   2024 foi o ano mais \"atípico\" da minha vida, e...   1494  1hzlgpv   \n",
            "1                                                        426  1i4kjtn   \n",
            "2                                                        536  1j7vrxq   \n",
            "3   Isso aqui me acende uma luz vermelha gigante. ...    490  1j83sgv   \n",
            "4                                                        283  1jhlr1z   \n",
            "5                                                         54  1gtn9i4   \n",
            "6   Amiguinhos, quem estiver sentindo uma angústia...    857  13rfwmo   \n",
            "7   Com muito apoio profissional, médicos, psicólo...    473  1hequur   \n",
            "8   Sempre fui uma pessoa que reclamava do status ...      0  1jiheby   \n",
            "9   Gente, eu realmente estou péssimo e sinto que ...     80  1il6lnq   \n",
            "10  Eu engordei muito na pandemia por conta de dep...   2724  1gm0u0a   \n",
            "11  https://reddit.com/link/1hhtdn0/video/dw793s48...     34  1hhtdn0   \n",
            "12  Basicamente, eu conheci uma garota simpática e...     58  1hvrd02   \n",
            "13                                                        64  1edkso1   \n",
            "14                                                        23  1hgz0j1   \n",
            "15                                                       640   l0j27w   \n",
            "16  Ainda não estou 100% recuperada mas já estou d...    175  1ifm1rt   \n",
            "17  Me inspirei nesse post sobre [tristeza por ter...     30  1gywqua   \n",
            "18  Voltei a um ponto crítico na minha vida.\\n\\nDe...     20  1jv9vlv   \n",
            "19  Eu nunca saía de casa, sempre arrumava uma des...    532   rpayy2   \n",
            "\n",
            "                                                  url  \n",
            "0              https://www.reddit.com/gallery/1hzlgpv  \n",
            "1              https://www.reddit.com/gallery/1i4kjtn  \n",
            "2   https://g1.globo.com/trabalho-e-carreira/notic...  \n",
            "3                https://i.redd.it/9taiw2dkawne1.jpeg  \n",
            "4                 https://i.redd.it/7a53wszrsbqe1.png  \n",
            "5   https://www.reddit.com/r/PergunteReddit/commen...  \n",
            "6                 https://i.redd.it/1i0lfdb5e02b1.jpg  \n",
            "7   https://www.reddit.com/r/Conquistas/comments/1...  \n",
            "8   https://www.reddit.com/r/opiniaoimpopular/comm...  \n",
            "9   https://www.reddit.com/r/MedicinaBrasil/commen...  \n",
            "10             https://www.reddit.com/gallery/1gm0u0a  \n",
            "11  https://www.reddit.com/r/brasil/comments/1hhtd...  \n",
            "12  https://www.reddit.com/r/relacionamentos/comme...  \n",
            "13  https://www.reddit.com/r/PergunteReddit/commen...  \n",
            "14               https://i.redd.it/1r1st5xj6l7e1.jpeg  \n",
            "15                    https://v.redd.it/ubyx6q4oaac61  \n",
            "16               https://i.redd.it/g5yvwrchqmge1.jpeg  \n",
            "17  https://www.reddit.com/r/foradecasa/comments/1...  \n",
            "18  https://www.reddit.com/r/TDAH_Brasil/comments/...  \n",
            "19  https://www.reddit.com/r/desabafos/comments/rp...  \n"
          ]
        }
      ]
    }
  ]
}